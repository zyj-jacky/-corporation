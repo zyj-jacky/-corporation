{
 "cells": [
  {
   "cell_type": "code",
   "execution_count": 1,
   "metadata": {},
   "outputs": [],
   "source": [
    "import sys\n",
    "from urllib.parse import quote\n",
    "import requests\n",
    "import urllib\n",
    "from importlib import reload\n",
    "from bs4 import BeautifulSoup"
   ]
  },
  {
   "cell_type": "code",
   "execution_count": 3,
   "metadata": {},
   "outputs": [],
   "source": [
    "def main():    #模拟浏览器进行登录\n",
    "    headers = {'Accept':'text/css,*/*;q=0.1' ,\n",
    "    'Accept-Encoding':'gzip, deflate, br' ,\n",
    "    'Accept-Language':'zh-CN,zh;q=0.8,zh-TW;q=0.7,zh-HK;q=0.5,en-US;q=0.3,en;q=0.2',\n",
    "    'Connection':'keep-alive',\n",
    "    'Host':'static.tianyancha.com',\n",
    "    'User-Agent':'Mozilla/5.0 (Windows NT 10.0; …) Gecko/20100101 Firefox/67.0'\n",
    "    }\n",
    "\n",
    "    cookies = {'_ga':'GA1.2.1270194645.1562389046',\n",
    "    '_gat_gtag_UA_123487620_1':'1',\n",
    "    '_gid':'GA1.2.1043480906.1562389046',\n",
    "    'bannerFlag':'undefined',\n",
    "    'cloud_token':'d8f590e850fa4ffdb1a5b75901f1213b',\n",
    "    'cloud_utm':'f6763fe6999b496ca1f1039b9a5cf6df',\n",
    "    'CT_TYCID':'b37d5d9874794aa19b5e8d342b5af3c8',\n",
    "    'Hm_lpvt_e92c8d65d92d534b0fc290df538b4758':'1562389222',\n",
    "    'Hm_lvt_e92c8d65d92d534b0fc290df538b4758':'1562389039',\n",
    "    'jsid':'SEM-BAIDU-PZ1907-SY-000000',\n",
    "    'RTYCID':'4424218507d64b2493925e3a3f18584f',\n",
    "    'ssuid':'15954440',\n",
    "    'TYCID':'835c45f09faa11e9b6d20174755c0f43',\n",
    "    'undefined':'835c45f09faa11e9b6d20174755c0f43'\n",
    "    }"
   ]
  },
  {
   "cell_type": "code",
   "execution_count": 4,
   "metadata": {},
   "outputs": [],
   "source": [
    "    startUrl = 'https://www.tianyancha.com/company/80119674'  #我们要请求的URL \n",
    "    resultPage = requests.get(startUrl)#,headers= headers,cookies= cookies) \n",
    "    #带着请求头信息进行模拟登陆\n",
    "    # 把我们获取到的信息保存在当前目录的txt文件中\n",
    "    # with open('tyc_demo.txt','w',encoding='utf-8') as of:\n",
    "    #     of.write(resultPage.text)\n",
    "    # print(resultPage.text)\n",
    "\n",
    "    # bcontent = resultPage.text"
   ]
  },
  {
   "cell_type": "code",
   "execution_count": 8,
   "metadata": {},
   "outputs": [
    {
     "name": "stdout",
     "output_type": "stream",
     "text": [
      "<!DOCTYPE html>\n",
      "<html lang=\"en\">\n",
      "<head>\n",
      "<meta charset=\"utf-8\"/>\n",
      "<title>è®¿é®ç¦æ­¢</title>\n",
      "<style type=\"text/css\">\n",
      "\t\thtml{\n",
      "\t\t\tpadding: 0;\n",
      "\t\t\tmargin: 0;\n",
      "\t\t}\n",
      "\t\tbody{\n",
      "\t\t\tpadding: 0;\n",
      "\t\t\tmargin: 0;\n",
      "\t\t\tbackground-color: #fff;\n",
      "\t\t}\n",
      "\t\t.imgCenter{\n",
      "\t\t\tposition: absolute;\n",
      "\t\t\tleft: 0;\n",
      "\t\t\tright: 0;\n",
      "\t\t\ttop: 0;\n",
      "\t\t\tbottom: 0;\n",
      "\t\t\tmargin: auto;\n",
      "\t\t}\n",
      "\t</style>\n",
      "</head>\n",
      "<body>\n",
      "<img class=\"imgCenter\" src=\"http://static.tianyancha.com/wap/images/forbidden3.png\"/>\n",
      "</body>\n",
      "</html>\n",
      "[]\n"
     ]
    }
   ],
   "source": [
    "    bcontent = resultPage.text\n",
    "    soup = BeautifulSoup(bcontent)\n",
    "    print(soup)\n",
    "#     contentsoup = soup.split()\n",
    "#     contentsoup = soup.find('div',id=\"_container_holder\")\n",
    "    contentsoup = soup.findAll('a',attrs={'class':'link-click'})\n",
    "\n",
    "    #接下来使用beautifulSoup来解析出我们要的信息\n",
    "    # noStarchSoup  = bs4.BeautifulSoup(resultPage.text,\"html.parser\")   # 将我们拿到的HTML用beautifulSoup做成汤\n",
    "    # elems = noStarchSoup.find_all('a',class_='in-block vertival-middle overflow-width')  # 取出我们要的股东信息\n",
    "#     print(contentsoup)  # 打印验证\n",
    "    print(contentsoup)\n",
    "#     type(a)\n",
    "#     cm=cn.split('title=')\n",
    "#     print(cn)"
   ]
  },
  {
   "cell_type": "code",
   "execution_count": 6,
   "metadata": {},
   "outputs": [
    {
     "name": "stdout",
     "output_type": "stream",
     "text": [
      "股东信息：\n"
     ]
    }
   ],
   "source": [
    "    print('股东信息：')\n",
    "    list=[]\n",
    "    for a in contentsoup:  # 遍历拿出我们的结果\n",
    "#         print(a[\"title\"])\n",
    "#         name = a.get('title')\n",
    "#         print(name)\n",
    "        \n",
    "#     for a in contentsoup:\n",
    "#         str='title'\n",
    "        if a.get('title') in a:\n",
    "            name = a.get('title')\n",
    "            if name not in list:\n",
    "                list.append(name)\n",
    "#                 print(name)\n",
    "#             set+=nameme\n",
    "#     print(set)\n",
    "#         print('股东信息：')\n",
    "# for a in elems:  # 遍历拿出我们的结果\n",
    "#     print(a[\"title\"])\n",
    "#         list.append(name)\n",
    "    for i in list:\n",
    "        print(i)    \n",
    "        "
   ]
  },
  {
   "cell_type": "code",
   "execution_count": 7,
   "metadata": {},
   "outputs": [
    {
     "ename": "AttributeError",
     "evalue": "'NoneType' object has no attribute 'find'",
     "output_type": "error",
     "traceback": [
      "\u001b[1;31m---------------------------------------------------------------------------\u001b[0m",
      "\u001b[1;31mAttributeError\u001b[0m                            Traceback (most recent call last)",
      "\u001b[1;32m<ipython-input-7-c22edba92869>\u001b[0m in \u001b[0;36m<module>\u001b[1;34m\u001b[0m\n\u001b[1;32m----> 1\u001b[1;33m \u001b[0mcom\u001b[0m\u001b[1;33m=\u001b[0m\u001b[0msoup\u001b[0m\u001b[1;33m.\u001b[0m\u001b[0mfind\u001b[0m\u001b[1;33m(\u001b[0m\u001b[1;34m'div'\u001b[0m\u001b[1;33m,\u001b[0m\u001b[0mid\u001b[0m\u001b[1;33m=\u001b[0m\u001b[1;34m'_container_holder'\u001b[0m\u001b[1;33m)\u001b[0m\u001b[1;33m.\u001b[0m\u001b[0mfind\u001b[0m\u001b[1;33m(\u001b[0m\u001b[1;34m'tbody'\u001b[0m\u001b[1;33m)\u001b[0m\u001b[1;33m\u001b[0m\u001b[1;33m\u001b[0m\u001b[0m\n\u001b[0m\u001b[0;32m      2\u001b[0m \u001b[0mcom\u001b[0m\u001b[1;33m=\u001b[0m\u001b[0msoup\u001b[0m\u001b[1;33m.\u001b[0m\u001b[0mfind_all\u001b[0m\u001b[1;33m(\u001b[0m\u001b[1;34m'title'\u001b[0m\u001b[1;33m)\u001b[0m\u001b[1;33m\u001b[0m\u001b[1;33m\u001b[0m\u001b[0m\n\u001b[0;32m      3\u001b[0m \u001b[0mprint\u001b[0m\u001b[1;33m(\u001b[0m\u001b[0mcom\u001b[0m\u001b[1;33m)\u001b[0m\u001b[1;33m\u001b[0m\u001b[1;33m\u001b[0m\u001b[0m\n",
      "\u001b[1;31mAttributeError\u001b[0m: 'NoneType' object has no attribute 'find'"
     ]
    }
   ],
   "source": [
    "com=soup.find('div',id='_container_holder').find('tbody')\n",
    "com=soup.find_all('title')\n",
    "print(com)"
   ]
  }
 ],
 "metadata": {
  "kernelspec": {
   "display_name": "Python 3",
   "language": "python",
   "name": "python3"
  },
  "language_info": {
   "codemirror_mode": {
    "name": "ipython",
    "version": 3
   },
   "file_extension": ".py",
   "mimetype": "text/x-python",
   "name": "python",
   "nbconvert_exporter": "python",
   "pygments_lexer": "ipython3",
   "version": "3.7.3"
  },
  "toc": {
   "base_numbering": 1,
   "nav_menu": {},
   "number_sections": true,
   "sideBar": true,
   "skip_h1_title": false,
   "title_cell": "Table of Contents",
   "title_sidebar": "Contents",
   "toc_cell": false,
   "toc_position": {},
   "toc_section_display": true,
   "toc_window_display": false
  }
 },
 "nbformat": 4,
 "nbformat_minor": 2
}
